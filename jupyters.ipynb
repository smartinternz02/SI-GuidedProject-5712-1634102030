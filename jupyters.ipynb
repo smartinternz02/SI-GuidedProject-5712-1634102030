{
 "cells": [
  {
   "cell_type": "markdown",
   "metadata": {},
   "source": [
    "# 1. IMPORT LIBRARIES"
   ]
  },
  {
   "cell_type": "code",
   "execution_count": 29,
   "metadata": {},
   "outputs": [],
   "source": [
    "from tensorflow.keras.models import Sequential\n",
    "from tensorflow.keras.layers import Dense, Convolution2D, MaxPooling2D, Flatten\n",
    "from tensorflow.keras.preprocessing.image import ImageDataGenerator"
   ]
  },
  {
   "cell_type": "markdown",
   "metadata": {},
   "source": [
    "# 2. IMAGE PREPROCESSING"
   ]
  },
  {
   "cell_type": "code",
   "execution_count": 30,
   "metadata": {},
   "outputs": [],
   "source": [
    "train_data = ImageDataGenerator(rescale = 1./224, shear_range = 0.2, zoom_range = 0.2, horizontal_flip = True)\n",
    "test_data = ImageDataGenerator(rescale = 1./224)"
   ]
  },
  {
   "cell_type": "code",
   "execution_count": 31,
   "metadata": {},
   "outputs": [
    {
     "name": "stdout",
     "output_type": "stream",
     "text": [
      "Found 200 images belonging to 2 classes.\n",
      "Found 200 images belonging to 2 classes.\n"
     ]
    }
   ],
   "source": [
    "x_train = train_data.flow_from_directory(r'C:\\Users\\SOWMYA\\Desktop\\final-model\\new\\chest-xray\\train', target_size = (32,32), batch_size = 32, class_mode = \"binary\")\n",
    "x_test = test_data.flow_from_directory(r'C:\\Users\\SOWMYA\\Desktop\\final-model\\new\\chest-xray\\test', target_size = (32,32), batch_size = 32, class_mode = \"binary\")"
   ]
  },
  {
   "cell_type": "markdown",
   "metadata": {},
   "source": [
    "# 3. INITIALIZING THE MODEL"
   ]
  },
  {
   "cell_type": "code",
   "execution_count": 32,
   "metadata": {},
   "outputs": [],
   "source": [
    "detector = Sequential()"
   ]
  },
  {
   "cell_type": "markdown",
   "metadata": {},
   "source": [
    "# 4. ADDING CONVOLUTION LAYER"
   ]
  },
  {
   "cell_type": "code",
   "execution_count": 33,
   "metadata": {},
   "outputs": [],
   "source": [
    "detector.add(Convolution2D(32,(3,3), input_shape = (32,32,3)))\n",
    "# the 3 in input shape indicates it is coloured image(RGB)\n",
    "# (3,3) indicates feature detector matrix size\n",
    "# 32 in no of feature detectors"
   ]
  },
  {
   "cell_type": "markdown",
   "metadata": {},
   "source": [
    "# 5. ADDING POOLING LAYER"
   ]
  },
  {
   "cell_type": "code",
   "execution_count": 34,
   "metadata": {},
   "outputs": [],
   "source": [
    "detector.add(MaxPooling2D((2,2)))\n",
    "# (2,2) is pooling matrix size"
   ]
  },
  {
   "cell_type": "code",
   "execution_count": 35,
   "metadata": {},
   "outputs": [],
   "source": [
    "detector.add(Convolution2D(64,(3,3), input_shape = (32,32,3)))\n",
    "detector.add(MaxPooling2D((2,2)))"
   ]
  },
  {
   "cell_type": "code",
   "execution_count": 36,
   "metadata": {},
   "outputs": [],
   "source": [
    "detector.add(Convolution2D(128,(3,3), input_shape = (32,32,3)))\n",
    "detector.add(MaxPooling2D((2,2)))"
   ]
  },
  {
   "cell_type": "markdown",
   "metadata": {},
   "source": [
    "# 6. ADDING FLATTEN LAYER"
   ]
  },
  {
   "cell_type": "code",
   "execution_count": 37,
   "metadata": {},
   "outputs": [],
   "source": [
    "detector.add(Flatten())  #gives input layer"
   ]
  },
  {
   "cell_type": "markdown",
   "metadata": {},
   "source": [
    "# 7. ADDING HIDDEN LAYER"
   ]
  },
  {
   "cell_type": "code",
   "execution_count": 38,
   "metadata": {},
   "outputs": [],
   "source": [
    "detector.add(Dense(units = 512, kernel_initializer = \"random_uniform\", activation = \"relu\"))"
   ]
  },
  {
   "cell_type": "markdown",
   "metadata": {},
   "source": [
    "# 8. ADDING OUTPUT LAYER"
   ]
  },
  {
   "cell_type": "code",
   "execution_count": 39,
   "metadata": {},
   "outputs": [],
   "source": [
    "detector.add(Dense(units = 1, kernel_initializer = \"random_uniform\", activation = \"sigmoid\"))"
   ]
  },
  {
   "cell_type": "markdown",
   "metadata": {},
   "source": [
    "# 9. MODEL TRAINING"
   ]
  },
  {
   "cell_type": "code",
   "execution_count": 40,
   "metadata": {},
   "outputs": [],
   "source": [
    "detector.compile(optimizer = \"adam\", loss = \"binary_crossentropy\", metrics = [\"accuracy\"])  "
   ]
  },
  {
   "cell_type": "code",
   "execution_count": 42,
   "metadata": {},
   "outputs": [
    {
     "name": "stdout",
     "output_type": "stream",
     "text": [
      "Epoch 1/100\n",
      "6/6 [==============================] - 8s 1s/step - loss: 0.7173 - accuracy: 0.5000 - val_loss: 0.6886 - val_accuracy: 0.4948\n",
      "Epoch 2/100\n",
      "6/6 [==============================] - 7s 1s/step - loss: 0.6684 - accuracy: 0.5417 - val_loss: 0.6666 - val_accuracy: 0.5260\n",
      "Epoch 3/100\n",
      "6/6 [==============================] - 9s 2s/step - loss: 0.6302 - accuracy: 0.6927 - val_loss: 0.6621 - val_accuracy: 0.5312\n",
      "Epoch 4/100\n",
      "6/6 [==============================] - 6s 1s/step - loss: 0.5421 - accuracy: 0.7143 - val_loss: 0.7620 - val_accuracy: 0.5312\n",
      "Epoch 5/100\n",
      "6/6 [==============================] - 6s 1s/step - loss: 0.5418 - accuracy: 0.7262 - val_loss: 0.6538 - val_accuracy: 0.5938\n",
      "Epoch 6/100\n",
      "6/6 [==============================] - 7s 1s/step - loss: 0.5238 - accuracy: 0.7321 - val_loss: 0.7109 - val_accuracy: 0.5573\n",
      "Epoch 7/100\n",
      "6/6 [==============================] - 8s 2s/step - loss: 0.4099 - accuracy: 0.8512 - val_loss: 0.6150 - val_accuracy: 0.6354\n",
      "Epoch 8/100\n",
      "6/6 [==============================] - 8s 1s/step - loss: 0.3542 - accuracy: 0.8869 - val_loss: 0.5904 - val_accuracy: 0.7135\n",
      "Epoch 9/100\n",
      "6/6 [==============================] - 10s 2s/step - loss: 0.3243 - accuracy: 0.8690 - val_loss: 0.7374 - val_accuracy: 0.6667\n",
      "Epoch 10/100\n",
      "6/6 [==============================] - 6s 1s/step - loss: 0.3139 - accuracy: 0.8750 - val_loss: 1.0947 - val_accuracy: 0.5833\n",
      "Epoch 11/100\n",
      "6/6 [==============================] - 6s 1s/step - loss: 0.2695 - accuracy: 0.8988 - val_loss: 0.8197 - val_accuracy: 0.6302\n",
      "Epoch 12/100\n",
      "6/6 [==============================] - 8s 1s/step - loss: 0.3195 - accuracy: 0.8512 - val_loss: 0.6741 - val_accuracy: 0.6615\n",
      "Epoch 13/100\n",
      "6/6 [==============================] - 9s 2s/step - loss: 0.2471 - accuracy: 0.8750 - val_loss: 0.5010 - val_accuracy: 0.7604\n",
      "Epoch 14/100\n",
      "6/6 [==============================] - 8s 1s/step - loss: 0.2581 - accuracy: 0.8690 - val_loss: 0.3734 - val_accuracy: 0.8177\n",
      "Epoch 15/100\n",
      "6/6 [==============================] - 7s 1s/step - loss: 0.2478 - accuracy: 0.9048 - val_loss: 0.5364 - val_accuracy: 0.7448\n",
      "Epoch 16/100\n",
      "6/6 [==============================] - 7s 1s/step - loss: 0.2790 - accuracy: 0.8929 - val_loss: 0.6584 - val_accuracy: 0.6667\n",
      "Epoch 17/100\n",
      "6/6 [==============================] - 6s 1s/step - loss: 0.2829 - accuracy: 0.8929 - val_loss: 0.4834 - val_accuracy: 0.7760\n",
      "Epoch 18/100\n",
      "6/6 [==============================] - 6s 1s/step - loss: 0.2463 - accuracy: 0.8988 - val_loss: 0.7210 - val_accuracy: 0.6615\n",
      "Epoch 19/100\n",
      "6/6 [==============================] - 7s 1s/step - loss: 0.2180 - accuracy: 0.9167 - val_loss: 0.4371 - val_accuracy: 0.7865\n",
      "Epoch 20/100\n",
      "6/6 [==============================] - 6s 1s/step - loss: 0.1949 - accuracy: 0.9219 - val_loss: 0.7124 - val_accuracy: 0.7031\n",
      "Epoch 21/100\n",
      "6/6 [==============================] - 7s 1s/step - loss: 0.2365 - accuracy: 0.9062 - val_loss: 0.6774 - val_accuracy: 0.7135\n",
      "Epoch 22/100\n",
      "6/6 [==============================] - 6s 1s/step - loss: 0.2447 - accuracy: 0.8988 - val_loss: 0.4060 - val_accuracy: 0.7969\n",
      "Epoch 23/100\n",
      "6/6 [==============================] - 6s 1s/step - loss: 0.1967 - accuracy: 0.9226 - val_loss: 0.4082 - val_accuracy: 0.7917\n",
      "Epoch 24/100\n",
      "6/6 [==============================] - 7s 1s/step - loss: 0.2154 - accuracy: 0.9062 - val_loss: 0.4256 - val_accuracy: 0.7865\n",
      "Epoch 25/100\n",
      "6/6 [==============================] - 6s 1s/step - loss: 0.1707 - accuracy: 0.9524 - val_loss: 0.5717 - val_accuracy: 0.7396\n",
      "Epoch 26/100\n",
      "6/6 [==============================] - 7s 1s/step - loss: 0.1598 - accuracy: 0.9405 - val_loss: 0.3545 - val_accuracy: 0.8333\n",
      "Epoch 27/100\n",
      "6/6 [==============================] - 6s 1s/step - loss: 0.2356 - accuracy: 0.9107 - val_loss: 0.7609 - val_accuracy: 0.6771\n",
      "Epoch 28/100\n",
      "6/6 [==============================] - 6s 1s/step - loss: 0.1723 - accuracy: 0.9405 - val_loss: 0.3826 - val_accuracy: 0.8229\n",
      "Epoch 29/100\n",
      "6/6 [==============================] - 6s 1s/step - loss: 0.1376 - accuracy: 0.9524 - val_loss: 0.5331 - val_accuracy: 0.7708\n",
      "Epoch 30/100\n",
      "6/6 [==============================] - 6s 1s/step - loss: 0.1402 - accuracy: 0.9524 - val_loss: 0.8427 - val_accuracy: 0.7188\n",
      "Epoch 31/100\n",
      "6/6 [==============================] - 6s 1s/step - loss: 0.1364 - accuracy: 0.9345 - val_loss: 0.8214 - val_accuracy: 0.7083\n",
      "Epoch 32/100\n",
      "6/6 [==============================] - 6s 1s/step - loss: 0.1868 - accuracy: 0.9286 - val_loss: 0.3775 - val_accuracy: 0.8438\n",
      "Epoch 33/100\n",
      "6/6 [==============================] - 7s 1s/step - loss: 0.1753 - accuracy: 0.9464 - val_loss: 0.3888 - val_accuracy: 0.8385\n",
      "Epoch 34/100\n",
      "6/6 [==============================] - 7s 1s/step - loss: 0.1807 - accuracy: 0.9286 - val_loss: 0.3173 - val_accuracy: 0.8594\n",
      "Epoch 35/100\n",
      "6/6 [==============================] - 7s 1s/step - loss: 0.1446 - accuracy: 0.9405 - val_loss: 0.5140 - val_accuracy: 0.7917\n",
      "Epoch 36/100\n",
      "6/6 [==============================] - 7s 1s/step - loss: 0.1777 - accuracy: 0.9286 - val_loss: 0.4693 - val_accuracy: 0.7917\n",
      "Epoch 37/100\n",
      "6/6 [==============================] - 7s 1s/step - loss: 0.1356 - accuracy: 0.9405 - val_loss: 0.3682 - val_accuracy: 0.8333\n",
      "Epoch 38/100\n",
      "6/6 [==============================] - 7s 1s/step - loss: 0.1350 - accuracy: 0.9405 - val_loss: 0.4349 - val_accuracy: 0.8229\n",
      "Epoch 39/100\n",
      "6/6 [==============================] - 7s 1s/step - loss: 0.1228 - accuracy: 0.9524 - val_loss: 0.4019 - val_accuracy: 0.8333\n",
      "Epoch 40/100\n",
      "6/6 [==============================] - 7s 1s/step - loss: 0.1334 - accuracy: 0.9524 - val_loss: 0.4331 - val_accuracy: 0.8229\n",
      "Epoch 41/100\n",
      "6/6 [==============================] - 7s 1s/step - loss: 0.1408 - accuracy: 0.9345 - val_loss: 0.3247 - val_accuracy: 0.8490\n",
      "Epoch 42/100\n",
      "6/6 [==============================] - 7s 1s/step - loss: 0.1976 - accuracy: 0.9345 - val_loss: 0.3153 - val_accuracy: 0.8385\n",
      "Epoch 43/100\n",
      "6/6 [==============================] - 6s 1s/step - loss: 0.1204 - accuracy: 0.9464 - val_loss: 0.3924 - val_accuracy: 0.8333\n",
      "Epoch 44/100\n",
      "6/6 [==============================] - 7s 1s/step - loss: 0.1291 - accuracy: 0.9405 - val_loss: 0.5899 - val_accuracy: 0.7656\n",
      "Epoch 45/100\n",
      "6/6 [==============================] - 7s 1s/step - loss: 0.1468 - accuracy: 0.9464 - val_loss: 0.3132 - val_accuracy: 0.8750\n",
      "Epoch 46/100\n",
      "6/6 [==============================] - 7s 1s/step - loss: 0.1905 - accuracy: 0.9286 - val_loss: 0.2860 - val_accuracy: 0.8854\n",
      "Epoch 47/100\n",
      "6/6 [==============================] - 7s 1s/step - loss: 0.1162 - accuracy: 0.9583 - val_loss: 0.3879 - val_accuracy: 0.8281\n",
      "Epoch 48/100\n",
      "6/6 [==============================] - 7s 1s/step - loss: 0.1100 - accuracy: 0.9688 - val_loss: 0.4806 - val_accuracy: 0.8125\n",
      "Epoch 49/100\n",
      "6/6 [==============================] - 7s 1s/step - loss: 0.1170 - accuracy: 0.9583 - val_loss: 0.4318 - val_accuracy: 0.8281\n",
      "Epoch 50/100\n",
      "6/6 [==============================] - 6s 1s/step - loss: 0.0982 - accuracy: 0.9583 - val_loss: 0.5603 - val_accuracy: 0.7604\n",
      "Epoch 51/100\n",
      "6/6 [==============================] - 7s 1s/step - loss: 0.1018 - accuracy: 0.9702 - val_loss: 0.4797 - val_accuracy: 0.8177\n",
      "Epoch 52/100\n",
      "6/6 [==============================] - 7s 1s/step - loss: 0.1096 - accuracy: 0.9531 - val_loss: 0.5766 - val_accuracy: 0.7760\n",
      "Epoch 53/100\n",
      "6/6 [==============================] - 6s 1s/step - loss: 0.0616 - accuracy: 0.9821 - val_loss: 0.3404 - val_accuracy: 0.8438\n",
      "Epoch 54/100\n",
      "6/6 [==============================] - 6s 1s/step - loss: 0.0598 - accuracy: 0.9702 - val_loss: 0.5282 - val_accuracy: 0.7865\n",
      "Epoch 55/100\n",
      "6/6 [==============================] - 6s 1s/step - loss: 0.1104 - accuracy: 0.9643 - val_loss: 0.3677 - val_accuracy: 0.8490\n",
      "Epoch 56/100\n",
      "6/6 [==============================] - 8s 1s/step - loss: 0.1005 - accuracy: 0.9531 - val_loss: 0.6148 - val_accuracy: 0.8021\n",
      "Epoch 57/100\n",
      "6/6 [==============================] - 6s 1s/step - loss: 0.0803 - accuracy: 0.9762 - val_loss: 0.3989 - val_accuracy: 0.8385\n",
      "Epoch 58/100\n",
      "6/6 [==============================] - 12s 2s/step - loss: 0.1101 - accuracy: 0.9643 - val_loss: 0.7168 - val_accuracy: 0.7396\n",
      "Epoch 59/100\n",
      "6/6 [==============================] - 15s 3s/step - loss: 0.0816 - accuracy: 0.9762 - val_loss: 0.5479 - val_accuracy: 0.8125\n",
      "Epoch 60/100\n",
      "6/6 [==============================] - 14s 2s/step - loss: 0.0852 - accuracy: 0.9635 - val_loss: 0.4593 - val_accuracy: 0.8177\n",
      "Epoch 61/100\n",
      "6/6 [==============================] - 12s 2s/step - loss: 0.0625 - accuracy: 0.9821 - val_loss: 0.4368 - val_accuracy: 0.8073\n",
      "Epoch 62/100\n",
      "6/6 [==============================] - 13s 2s/step - loss: 0.0746 - accuracy: 0.9740 - val_loss: 0.5146 - val_accuracy: 0.8073\n",
      "Epoch 63/100\n",
      "6/6 [==============================] - 10s 2s/step - loss: 0.0511 - accuracy: 0.9881 - val_loss: 0.2998 - val_accuracy: 0.8698\n",
      "Epoch 64/100\n",
      "6/6 [==============================] - 8s 2s/step - loss: 0.0624 - accuracy: 0.9762 - val_loss: 0.5800 - val_accuracy: 0.7760\n",
      "Epoch 65/100\n",
      "6/6 [==============================] - 6s 1s/step - loss: 0.0604 - accuracy: 0.9821 - val_loss: 0.3298 - val_accuracy: 0.8646\n",
      "Epoch 66/100\n",
      "6/6 [==============================] - 7s 1s/step - loss: 0.0312 - accuracy: 0.9940 - val_loss: 0.4998 - val_accuracy: 0.7865\n",
      "Epoch 67/100\n",
      "6/6 [==============================] - 6s 1s/step - loss: 0.1235 - accuracy: 0.9702 - val_loss: 0.7773 - val_accuracy: 0.7292\n",
      "Epoch 68/100\n",
      "6/6 [==============================] - 7s 1s/step - loss: 0.1067 - accuracy: 0.9643 - val_loss: 0.4627 - val_accuracy: 0.8385\n",
      "Epoch 69/100\n",
      "6/6 [==============================] - 8s 1s/step - loss: 0.0693 - accuracy: 0.9635 - val_loss: 0.5872 - val_accuracy: 0.7969\n",
      "Epoch 70/100\n",
      "6/6 [==============================] - 6s 1s/step - loss: 0.0746 - accuracy: 0.9762 - val_loss: 0.4860 - val_accuracy: 0.8073\n",
      "Epoch 71/100\n",
      "6/6 [==============================] - 6s 1s/step - loss: 0.0511 - accuracy: 0.9821 - val_loss: 0.3819 - val_accuracy: 0.8385\n",
      "Epoch 72/100\n",
      "6/6 [==============================] - 6s 1s/step - loss: 0.0673 - accuracy: 0.9583 - val_loss: 0.4229 - val_accuracy: 0.8073\n",
      "Epoch 73/100\n",
      "6/6 [==============================] - 6s 1s/step - loss: 0.0674 - accuracy: 0.9643 - val_loss: 0.4446 - val_accuracy: 0.8229\n",
      "Epoch 74/100\n",
      "6/6 [==============================] - 6s 996ms/step - loss: 0.0627 - accuracy: 0.9821 - val_loss: 0.4349 - val_accuracy: 0.8333\n",
      "Epoch 75/100\n",
      "6/6 [==============================] - 6s 998ms/step - loss: 0.0629 - accuracy: 0.9821 - val_loss: 0.5029 - val_accuracy: 0.7865\n",
      "Epoch 76/100\n",
      "6/6 [==============================] - 6s 1s/step - loss: 0.0549 - accuracy: 0.9844 - val_loss: 0.3333 - val_accuracy: 0.8438\n",
      "Epoch 77/100\n",
      "6/6 [==============================] - 6s 1s/step - loss: 0.0717 - accuracy: 0.9821 - val_loss: 0.4279 - val_accuracy: 0.8490\n",
      "Epoch 78/100\n",
      "6/6 [==============================] - 6s 1s/step - loss: 0.0343 - accuracy: 0.9881 - val_loss: 0.6851 - val_accuracy: 0.7865\n",
      "Epoch 79/100\n",
      "6/6 [==============================] - 6s 1s/step - loss: 0.0435 - accuracy: 0.9821 - val_loss: 0.4623 - val_accuracy: 0.8229\n",
      "Epoch 80/100\n",
      "6/6 [==============================] - 5s 990ms/step - loss: 0.0661 - accuracy: 0.9762 - val_loss: 0.6028 - val_accuracy: 0.7969\n",
      "Epoch 81/100\n",
      "6/6 [==============================] - 6s 1s/step - loss: 0.0857 - accuracy: 0.9688 - val_loss: 0.4037 - val_accuracy: 0.8385\n",
      "Epoch 82/100\n",
      "6/6 [==============================] - 6s 1s/step - loss: 0.0594 - accuracy: 0.9762 - val_loss: 0.9858 - val_accuracy: 0.7448\n",
      "Epoch 83/100\n",
      "6/6 [==============================] - 5s 972ms/step - loss: 0.0504 - accuracy: 0.9762 - val_loss: 0.4273 - val_accuracy: 0.8542\n",
      "Epoch 84/100\n",
      "6/6 [==============================] - 5s 1s/step - loss: 0.0894 - accuracy: 0.9643 - val_loss: 0.7439 - val_accuracy: 0.7708\n",
      "Epoch 85/100\n",
      "6/6 [==============================] - 6s 1s/step - loss: 0.0514 - accuracy: 0.9881 - val_loss: 0.3502 - val_accuracy: 0.8698\n",
      "Epoch 86/100\n",
      "6/6 [==============================] - 6s 1s/step - loss: 0.0446 - accuracy: 0.9844 - val_loss: 1.2428 - val_accuracy: 0.7188\n",
      "Epoch 87/100\n",
      "6/6 [==============================] - 5s 995ms/step - loss: 0.0687 - accuracy: 0.9702 - val_loss: 0.7256 - val_accuracy: 0.8281\n",
      "Epoch 88/100\n",
      "6/6 [==============================] - 6s 1s/step - loss: 0.1580 - accuracy: 0.9531 - val_loss: 1.1149 - val_accuracy: 0.7083\n",
      "Epoch 89/100\n",
      "6/6 [==============================] - 6s 992ms/step - loss: 0.1094 - accuracy: 0.9405 - val_loss: 0.3040 - val_accuracy: 0.8594\n",
      "Epoch 90/100\n",
      "6/6 [==============================] - 6s 1s/step - loss: 0.0981 - accuracy: 0.9762 - val_loss: 0.3813 - val_accuracy: 0.8594\n",
      "Epoch 91/100\n",
      "6/6 [==============================] - 6s 982ms/step - loss: 0.0906 - accuracy: 0.9821 - val_loss: 0.9275 - val_accuracy: 0.7760\n",
      "Epoch 92/100\n",
      "6/6 [==============================] - 5s 1s/step - loss: 0.0965 - accuracy: 0.9702 - val_loss: 1.3640 - val_accuracy: 0.7031\n",
      "Epoch 93/100\n",
      "6/6 [==============================] - 6s 1s/step - loss: 0.0898 - accuracy: 0.9688 - val_loss: 0.5769 - val_accuracy: 0.8333\n",
      "Epoch 94/100\n",
      "6/6 [==============================] - 5s 989ms/step - loss: 0.0551 - accuracy: 0.9821 - val_loss: 0.9661 - val_accuracy: 0.7188\n",
      "Epoch 95/100\n",
      "6/6 [==============================] - 5s 985ms/step - loss: 0.0481 - accuracy: 0.9762 - val_loss: 0.5509 - val_accuracy: 0.8385\n",
      "Epoch 96/100\n",
      "6/6 [==============================] - 6s 1s/step - loss: 0.0290 - accuracy: 1.0000 - val_loss: 0.7412 - val_accuracy: 0.8073\n",
      "Epoch 97/100\n",
      "6/6 [==============================] - 5s 972ms/step - loss: 0.0699 - accuracy: 0.9643 - val_loss: 0.6463 - val_accuracy: 0.8333\n",
      "Epoch 98/100\n",
      "6/6 [==============================] - 5s 966ms/step - loss: 0.0726 - accuracy: 0.9643 - val_loss: 1.0419 - val_accuracy: 0.7500\n",
      "Epoch 99/100\n",
      "6/6 [==============================] - 5s 974ms/step - loss: 0.0748 - accuracy: 0.9762 - val_loss: 0.6957 - val_accuracy: 0.7917\n",
      "Epoch 100/100\n",
      "6/6 [==============================] - 5s 975ms/step - loss: 0.0249 - accuracy: 0.9940 - val_loss: 0.4780 - val_accuracy: 0.8125\n"
     ]
    }
   ],
   "source": [
    "history=detector.fit(x_train,steps_per_epoch=200//32,epochs=100,validation_data=x_test,validation_steps=200//32)"
   ]
  },
  {
   "cell_type": "code",
   "execution_count": 44,
   "metadata": {},
   "outputs": [],
   "source": [
    "detector.save(\"CHEST.h5\")"
   ]
  },
  {
   "cell_type": "markdown",
   "metadata": {},
   "source": [
    "# 10. SAVING THE MODEL"
   ]
  },
  {
   "cell_type": "code",
   "execution_count": 45,
   "metadata": {},
   "outputs": [],
   "source": [
    "from keras.models import load_model"
   ]
  },
  {
   "cell_type": "code",
   "execution_count": 46,
   "metadata": {},
   "outputs": [],
   "source": [
    "from keras.preprocessing import image"
   ]
  },
  {
   "cell_type": "code",
   "execution_count": 47,
   "metadata": {},
   "outputs": [],
   "source": [
    "from keras.applications.vgg16 import preprocess_input"
   ]
  },
  {
   "cell_type": "code",
   "execution_count": 48,
   "metadata": {},
   "outputs": [],
   "source": [
    "import numpy as np"
   ]
  },
  {
   "cell_type": "code",
   "execution_count": 52,
   "metadata": {},
   "outputs": [],
   "source": [
    "model=load_model('CHEST.h5')"
   ]
  },
  {
   "cell_type": "code",
   "execution_count": 53,
   "metadata": {},
   "outputs": [],
   "source": [
    "img=image.load_img(r'C:\\Users\\SOWMYA\\Desktop\\final-model\\new\\chest-xray\\test\\pneumonia\\person1_virus_6.jpeg',target_size=(32,32))"
   ]
  },
  {
   "cell_type": "code",
   "execution_count": 54,
   "metadata": {},
   "outputs": [],
   "source": [
    "x=image.img_to_array(img)"
   ]
  },
  {
   "cell_type": "code",
   "execution_count": 55,
   "metadata": {},
   "outputs": [],
   "source": [
    "x=np.expand_dims(x, axis=0)"
   ]
  },
  {
   "cell_type": "code",
   "execution_count": 56,
   "metadata": {},
   "outputs": [],
   "source": [
    "img_data=preprocess_input(x)"
   ]
  },
  {
   "cell_type": "code",
   "execution_count": 57,
   "metadata": {},
   "outputs": [],
   "source": [
    "classes=model.predict(img_data)"
   ]
  },
  {
   "cell_type": "code",
   "execution_count": 58,
   "metadata": {},
   "outputs": [],
   "source": [
    "result=int(classes[0][0])"
   ]
  },
  {
   "cell_type": "code",
   "execution_count": 59,
   "metadata": {},
   "outputs": [
    {
     "name": "stdout",
     "output_type": "stream",
     "text": [
      "Result is PNEUMONIA\n"
     ]
    }
   ],
   "source": [
    "if result==0:\n",
    "    print(\"NORMAL\")\n",
    "else:\n",
    "    print(\"Result is PNEUMONIA\")"
   ]
  },
  {
   "cell_type": "markdown",
   "metadata": {},
   "source": []
  }
 ],
 "metadata": {
  "interpreter": {
   "hash": "ab10db72ad350fc049b5a3a07763e6e7fe3ecfabc90a64055da7f8ebea0a0519"
  },
  "kernelspec": {
   "display_name": "Python 3.8.8 64-bit ('base': conda)",
   "name": "python3"
  },
  "language_info": {
   "codemirror_mode": {
    "name": "ipython",
    "version": 3
   },
   "file_extension": ".py",
   "mimetype": "text/x-python",
   "name": "python",
   "nbconvert_exporter": "python",
   "pygments_lexer": "ipython3",
   "version": "3.8.8"
  }
 },
 "nbformat": 4,
 "nbformat_minor": 4
}
